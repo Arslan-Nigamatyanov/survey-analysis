{
 "cells": [
  {
   "cell_type": "code",
   "execution_count": 1,
   "id": "b8797f4d-7966-4793-9eac-819f500f787b",
   "metadata": {},
   "outputs": [],
   "source": [
    "# DATA CLEANING PIPLINE\n",
    "# 1. Load Multiple CSV Files\n",
    "# 2. Combine with pf.concat()\n",
    "# 3. Remove Duplicates\n",
    "# 4. Remove Empty Rows\n",
    "# 5. Fill Missing Values\n",
    "# 6. Normalize Column Names\n",
    "# 7. GropuBy Analysis\n",
    "# 8. Pivot Table\n",
    "# 9. Save Cleaned Data"
   ]
  },
  {
   "cell_type": "code",
   "execution_count": 2,
   "id": "80c6342a-246d-451a-a838-a1d953e00c87",
   "metadata": {},
   "outputs": [
    {
     "name": "stdout",
     "output_type": "stream",
     "text": [
      "Batch 1: 20 participants\n",
      "Batch 2: 20 participants\n",
      "Batch 3: 20 participants\n",
      "Batch 4: 20 participants\n"
     ]
    }
   ],
   "source": [
    "# 1. Load Multiple CSV Files\n",
    "\n",
    "import pandas as pd\n",
    "\n",
    "df1 = pd.read_csv('../data/survey-1.csv', sep=';')\n",
    "df2 = pd.read_csv('../data/survey-2.csv', sep=';')\n",
    "df3 = pd.read_csv('../data/survey-3.csv', sep=';')\n",
    "df4 = pd.read_csv('../data/sample.csv', sep=';')\n",
    "\n",
    "print(f'Batch 1: {len(df1)} participants')\n",
    "print(f'Batch 2: {len(df2)} participants')\n",
    "print(f'Batch 3: {len(df3)} participants')\n",
    "print(f'Batch 4: {len(df4)} participants')"
   ]
  },
  {
   "cell_type": "code",
   "execution_count": 3,
   "id": "f6b88f7f-124d-4a9a-8bd2-531255d40170",
   "metadata": {},
   "outputs": [
    {
     "name": "stdout",
     "output_type": "stream",
     "text": [
      "Combined data: 80 participants total\n"
     ]
    }
   ],
   "source": [
    "# 2. Combine with pd.concat()\n",
    "\n",
    "# Combine all datasets\n",
    "combined_df = pd.concat([df1, df2, df3, df4], ignore_index=True)\n",
    "print(f'Combined data: {len(combined_df)} participants total')"
   ]
  },
  {
   "cell_type": "code",
   "execution_count": 4,
   "id": "20a5a809-4fcd-4c70-8ffc-bc995c0162d3",
   "metadata": {},
   "outputs": [
    {
     "name": "stdout",
     "output_type": "stream",
     "text": [
      "After removing duplicates: 78 participants\n"
     ]
    }
   ],
   "source": [
    "# 3. Remove duplicates\n",
    "\n",
    "# Remove exact duplicate rows\n",
    "cleaned_df = combined_df.drop_duplicates()\n",
    "print(f'After removing duplicates: {len(cleaned_df)} participants')"
   ]
  },
  {
   "cell_type": "code",
   "execution_count": 5,
   "id": "0f85eba0-3422-40e1-953e-12abf2125001",
   "metadata": {},
   "outputs": [
    {
     "name": "stdout",
     "output_type": "stream",
     "text": [
      "After removing empty rows: 77 participants\n"
     ]
    }
   ],
   "source": [
    "# 4. Remove empty raws\n",
    "\n",
    "# Remove raws where ALL values are missing\n",
    "cleaned_df = cleaned_df.dropna(how='all')\n",
    "print(f'After removing empty rows: {len(cleaned_df)} participants')"
   ]
  },
  {
   "cell_type": "code",
   "execution_count": 6,
   "id": "024a16e9-6fb5-44b2-87bf-65d4482a0fa0",
   "metadata": {},
   "outputs": [
    {
     "name": "stdout",
     "output_type": "stream",
     "text": [
      "Missing values filled\n"
     ]
    }
   ],
   "source": [
    "# 5. Fill missing values\n",
    "\n",
    "# Fill missing numeric values with median\n",
    "cleaned_df['age'] = cleaned_df['age'].fillna(cleaned_df['age'].median())\n",
    "cleaned_df['anxiety_score'] = cleaned_df['anxiety_score'].fillna(cleaned_df['anxiety_score'].median())\n",
    "cleaned_df['social_media_time'] = cleaned_df['social_media_time'].fillna(cleaned_df['social_media_time'].median())\n",
    "\n",
    "print('Missing values filled')"
   ]
  },
  {
   "cell_type": "code",
   "execution_count": 7,
   "id": "70c5f294-07f9-49ab-a8d4-7c2bb9cf3bd4",
   "metadata": {},
   "outputs": [
    {
     "name": "stdout",
     "output_type": "stream",
     "text": [
      "Normalized columns: ['patient_id', 'age', 'anxiety_score', 'social_media_time']\n"
     ]
    }
   ],
   "source": [
    "# 6. Normalize column names\n",
    "\n",
    "# convert to lowercase and replace spaces\n",
    "cleaned_df.columns = cleaned_df.columns.str.lower().str.replace(' ', '_')\n",
    "print('Normalized columns:', cleaned_df.columns.tolist())"
   ]
  },
  {
   "cell_type": "code",
   "execution_count": 8,
   "id": "ee84d06e-415e-4a05-8348-a1fa5cce2ff3",
   "metadata": {},
   "outputs": [
    {
     "name": "stdout",
     "output_type": "stream",
     "text": [
      "Average anxiety by group:\n",
      "age_group\n",
      "Young     5.280000\n",
      "Adult     5.244444\n",
      "Senior    3.333333\n",
      "Name: anxiety_score, dtype: float64\n"
     ]
    },
    {
     "name": "stderr",
     "output_type": "stream",
     "text": [
      "C:\\Users\\arsla\\AppData\\Local\\Temp\\ipykernel_10528\\3215480814.py:8: FutureWarning: The default of observed=False is deprecated and will be changed to True in a future version of pandas. Pass observed=False to retain current behavior or observed=True to adopt the future default and silence this warning.\n",
      "  group_analysis = combined_df.groupby('age_group')['anxiety_score'].mean()\n"
     ]
    }
   ],
   "source": [
    "# 7. GroupBy analysis\n",
    "\n",
    "# Average anxiety by group\n",
    "combined_df['age_group'] = pd.cut(combined_df['age'],\n",
    "                               bins=[0, 20, 30, 50],\n",
    "                               labels=['Young', 'Adult', 'Senior'])\n",
    "\n",
    "group_analysis = combined_df.groupby('age_group')['anxiety_score'].mean()\n",
    "print('Average anxiety by group:')\n",
    "print(group_analysis)"
   ]
  },
  {
   "cell_type": "code",
   "execution_count": 9,
   "id": "5887735a-e2e4-4e52-9dcf-995e4d4bfa7f",
   "metadata": {},
   "outputs": [
    {
     "name": "stdout",
     "output_type": "stream",
     "text": [
      "['patient_id', 'age', 'anxiety_score', 'social_media_time', 'age_group']\n"
     ]
    }
   ],
   "source": [
    "print(combined_df.columns.tolist())"
   ]
  },
  {
   "cell_type": "code",
   "execution_count": 10,
   "id": "7f1066ab-ac72-4201-a498-5507da05cdfb",
   "metadata": {},
   "outputs": [
    {
     "name": "stdout",
     "output_type": "stream",
     "text": [
      "Summary table:\n",
      "                   mean         count\n",
      "          anxiety_score anxiety_score\n",
      "age_group                            \n",
      "Young          5.280000            25\n",
      "Adult          5.244444            45\n",
      "Senior         3.333333             3\n"
     ]
    },
    {
     "name": "stderr",
     "output_type": "stream",
     "text": [
      "C:\\Users\\arsla\\AppData\\Local\\Temp\\ipykernel_10528\\1890357849.py:4: FutureWarning: The default value of observed=False is deprecated and will change to observed=True in a future version of pandas. Specify observed=False to silence this warning and retain the current behavior\n",
      "  pivot = pd.pivot_table(combined_df,\n",
      "C:\\Users\\arsla\\AppData\\Local\\Temp\\ipykernel_10528\\1890357849.py:4: FutureWarning: The default value of observed=False is deprecated and will change to observed=True in a future version of pandas. Specify observed=False to silence this warning and retain the current behavior\n",
      "  pivot = pd.pivot_table(combined_df,\n"
     ]
    }
   ],
   "source": [
    "# 8. Pivot table\n",
    "\n",
    "# Create summary table\n",
    "pivot = pd.pivot_table(combined_df,\n",
    "                       values='anxiety_score',\n",
    "                       index='age_group',\n",
    "                       aggfunc=['mean', 'count'])\n",
    "\n",
    "print('Summary table:')\n",
    "print(pivot)"
   ]
  },
  {
   "cell_type": "code",
   "execution_count": 12,
   "id": "8d959fc1-29a8-4110-b38d-27adc24de59f",
   "metadata": {},
   "outputs": [
    {
     "name": "stdout",
     "output_type": "stream",
     "text": [
      "Saved cleaned data to: data/cleaned_combined_survey.csv\n"
     ]
    }
   ],
   "source": [
    "# 9. Save Cleaned Data\n",
    "\n",
    "# Convert everything to numeric, invalid becomes NaN\n",
    "cleaned_df['social_media_time'] = pd.to_numeric(cleaned_df['social_media_time'], errors='coerce')\n",
    "\n",
    "# Save final cleaned dataset\n",
    "cleaned_df.to_csv('../data/cleaned_combined_survey.csv', sep=';', index=False)\n",
    "print('Saved cleaned data to: data/cleaned_combined_survey.csv')"
   ]
  },
  {
   "cell_type": "code",
   "execution_count": null,
   "id": "add92560-2659-4340-afa1-c6faa8747a23",
   "metadata": {},
   "outputs": [],
   "source": []
  }
 ],
 "metadata": {
  "kernelspec": {
   "display_name": "Python 3 (ipykernel)",
   "language": "python",
   "name": "python3"
  },
  "language_info": {
   "codemirror_mode": {
    "name": "ipython",
    "version": 3
   },
   "file_extension": ".py",
   "mimetype": "text/x-python",
   "name": "python",
   "nbconvert_exporter": "python",
   "pygments_lexer": "ipython3",
   "version": "3.10.18"
  }
 },
 "nbformat": 4,
 "nbformat_minor": 5
}
