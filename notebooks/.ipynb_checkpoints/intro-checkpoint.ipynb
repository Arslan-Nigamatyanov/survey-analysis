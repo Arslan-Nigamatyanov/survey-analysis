{
 "cells": [
  {
   "cell_type": "code",
   "execution_count": 13,
   "id": "fb49880c-9b07-478a-b336-d5314d171e0b",
   "metadata": {},
   "outputs": [],
   "source": [
    "# = = = V A R I A B L E S = = ="
   ]
  },
  {
   "cell_type": "code",
   "execution_count": 5,
   "id": "efd5f305-4090-49ee-8847-71949689583f",
   "metadata": {},
   "outputs": [],
   "source": [
    "# === NUMBERS (for measurements) ===\n",
    "\n",
    "patient_count = 50 # Integers (whole numbers)\n",
    "survey_questions = 20\n",
    "\n",
    "average_temperature = 36.6 # Floats (decimal numbers)\n",
    "blood_sugar_level = 5.4"
   ]
  },
  {
   "cell_type": "code",
   "execution_count": 6,
   "id": "ac56139c-5203-4710-914e-5d5bfad44cd4",
   "metadata": {},
   "outputs": [],
   "source": [
    "# === TEXT (for descriptions) ===\n",
    "\n",
    "patient_name = 'Maria Petrova'\n",
    "diagnosis = 'Type 2 Diabets'\n",
    "hospital_name = 'City Medical Center'"
   ]
  },
  {
   "cell_type": "code",
   "execution_count": 7,
   "id": "f7d5a0da-5489-4c9f-8a4e-6499fd7453ab",
   "metadata": {},
   "outputs": [],
   "source": [
    "# === True/False (for conditions) ===\n",
    "\n",
    "has_insurance = True\n",
    "is_diabetic = False\n",
    "completed_survey = True"
   ]
  },
  {
   "cell_type": "code",
   "execution_count": 10,
   "id": "3a527bef-2d2b-4724-bc4d-6f0d3aa5b792",
   "metadata": {},
   "outputs": [
    {
     "name": "stdout",
     "output_type": "stream",
     "text": [
      "We have 6 patients.\n",
      "They have common symptoms: ['headache', 'fever', 'cough', 'fatigue'].\n"
     ]
    }
   ],
   "source": [
    "# === LISTS (for multiple values) ===\n",
    "\n",
    "patient_ages = [25, 33, 45, 64, 19, 77]\n",
    "symptoms = ['headache', 'fever', 'cough', 'fatigue']\n",
    "\n",
    "print(f'We have {len(patient_ages)} patients.')\n",
    "print(f'They have common symptoms: {symptoms}.')"
   ]
  },
  {
   "cell_type": "code",
   "execution_count": 38,
   "id": "87e978b6-a67f-4d95-9dbb-6b49de05724d",
   "metadata": {},
   "outputs": [
    {
     "name": "stdout",
     "output_type": "stream",
     "text": [
      "\n",
      "=== MINI RESEARCH STUDY SETUP ===\n",
      "\n",
      "Study: Social Media Impact on Sleep Quality\n",
      "Researcher: Arslan Nigamatyanov\n",
      "Participants: 30\n",
      "Duration: 14 days\n",
      "Initial averages - Sleep: 6.5h, Social media: 3.2h\n"
     ]
    }
   ],
   "source": [
    "print('\\n=== MINI RESEARCH STUDY SETUP ===\\n')\n",
    "\n",
    "study_title = \"Social Media Impact on Sleep Quality\"\n",
    "researcher_name = \"Arslan Nigamatyanov\"\n",
    "participiant_count = 30\n",
    "study_duration_days = 14\n",
    "\n",
    "average_sleep_hours = 6.5\n",
    "average_social_media_hours = 3.2\n",
    "average_stress_level = 5.8 # 1-10 scale\n",
    "\n",
    "# Study status\n",
    "data_collection_complete = False\n",
    "analysis_started = False\n",
    "\n",
    "print(f'Study: {study_title}')\n",
    "print(f'Researcher: {researcher_name}')\n",
    "print(f'Participants: {participiant_count}')\n",
    "print(f'Duration: {study_duration_days} days')\n",
    "print(f'Initial averages - Sleep: {average_sleep_hours}h, Social media: {average_social_media_hours}h')"
   ]
  },
  {
   "cell_type": "code",
   "execution_count": 14,
   "id": "46e0d725-04e8-4448-a54c-482f754b5fa0",
   "metadata": {},
   "outputs": [],
   "source": [
    "# = = = L O O P S = = ="
   ]
  },
  {
   "cell_type": "code",
   "execution_count": 37,
   "id": "a27031e6-174f-4bc8-b3e8-dd0d46530fc7",
   "metadata": {},
   "outputs": [
    {
     "name": "stdout",
     "output_type": "stream",
     "text": [
      "\n",
      "=== PROCESSING PATIENT RECORDS ===\n",
      "\n",
      "All patient ages:\n",
      " - 15 years old\n",
      " - 16 years old\n",
      " - 33 years old\n",
      " - 56 years old\n",
      " - 34 years old\n",
      " - 33 years old\n",
      "\n",
      "Total patients: 6\n",
      "Average age: 31.166666666666668 years\n"
     ]
    }
   ],
   "source": [
    "print('\\n=== PROCESSING PATIENT RECORDS ===\\n')\n",
    "\n",
    "patient_ages = [15, 16, 33, 56, 34, 33]\n",
    "\n",
    "print('All patient ages:')\n",
    "for age in patient_ages:\n",
    "   print(f' - {age} years old')\n",
    "\n",
    "total_age = 0\n",
    "for age in patient_ages:\n",
    "    total_age = total_age + age\n",
    "\n",
    "average_age = total_age / len(patient_ages)\n",
    "print(f'\\nTotal patients: {len(patient_ages)}')\n",
    "print(f'Average age: {average_age} years')"
   ]
  },
  {
   "cell_type": "code",
   "execution_count": 39,
   "id": "6c8d19c2-49cd-41a9-bc8b-b3f59ca90842",
   "metadata": {},
   "outputs": [
    {
     "name": "stdout",
     "output_type": "stream",
     "text": [
      "\n",
      "=== SURVEY ANALYSIS ===\n",
      "\n",
      "Individual anxiety scores:\n",
      "Participant 1: 3/10\n",
      "Participant 2: 7/10\n",
      "Participant 3: 5/10\n",
      "Participant 4: 2/10\n",
      "Participant 5: 9/10\n",
      "Participant 6: 8/10\n",
      "Participant 7: 5/10\n",
      "Participant 8: 6/10\n",
      "Participant 9: 9/10\n",
      "Participant 10: 4/10\n",
      "\n",
      "Participants with high anxiety (7+): 4\n"
     ]
    }
   ],
   "source": [
    "print('\\n=== SURVEY ANALYSIS ===')\n",
    "\n",
    "anxiety_scores = [3, 7, 5, 2, 9, 8, 5, 6, 9, 4]\n",
    "\n",
    "print('\\nIndividual anxiety scores:')\n",
    "for i, score in enumerate(anxiety_scores):\n",
    "    print(f'Participant {i+1}: {score}/10')\n",
    "\n",
    "high_anxiety_count = 0\n",
    "for score in anxiety_scores:\n",
    "    if score >= 7:\n",
    "        high_anxiety_count += 1\n",
    "\n",
    "print(f'\\nParticipants with high anxiety (7+): {high_anxiety_count}')"
   ]
  },
  {
   "cell_type": "code",
   "execution_count": 41,
   "id": "af8961c1-99b6-486d-86a7-c6de83c147aa",
   "metadata": {},
   "outputs": [
    {
     "name": "stdout",
     "output_type": "stream",
     "text": [
      "\n",
      "=== BLOOD PRESSURE MONITORING ===\n",
      "\n",
      "Weekly bloodpressure tracking:\n",
      "Week 10: 120 mmHg - NORMAL\n",
      "Week 11: 118 mmHg - NORMAL\n",
      "Week 12: 122 mmHg - NORMAL\n",
      "Week 13: 145 mmHg - ELEVATED\n",
      "Week 14: 121 mmHg - NORMAL\n",
      "Week 15: 117 mmHg - NORMAL\n",
      "Week 16: 120 mmHg - NORMAL\n"
     ]
    }
   ],
   "source": [
    "print('\\n=== BLOOD PRESSURE MONITORING ===\\n')\n",
    "\n",
    "weekly_bp_readings = [120, 118, 122, 145, 121, 117, 120]\n",
    "\n",
    "print('Weekly bloodpressure tracking:')\n",
    "for week, bp in enumerate(weekly_bp_readings, 10):\n",
    "    status = 'NORMAL' if bp < 130 else 'ELEVATED'\n",
    "    print(f'Week {week}: {bp} mmHg - {status}')"
   ]
  },
  {
   "cell_type": "code",
   "execution_count": 42,
   "id": "e6107a12-42de-49c6-b940-c71da76d42aa",
   "metadata": {},
   "outputs": [
    {
     "name": "stdout",
     "output_type": "stream",
     "text": [
      "\n",
      "=== PATIENT DATABASE ===\n",
      "\n",
      "Patient #1: Anna K.\n",
      "Patient #2: Ivan R.\n",
      "Patient #3: Alena Z.\n",
      "Patient #4: Kirill K.\n"
     ]
    }
   ],
   "source": [
    "# Loop with Index\n",
    "print('\\n=== PATIENT DATABASE ===\\n')\n",
    "\n",
    "patients = ['Anna K.', 'Ivan R.', 'Alena Z.', 'Kirill K.']\n",
    "\n",
    "for patient_number, patient_name in enumerate(patients, 1):\n",
    "    print(f'Patient #{patient_number}: {patient_name}')"
   ]
  },
  {
   "cell_type": "code",
   "execution_count": 44,
   "id": "9fc1c6af-8d95-4eae-a151-c56ec58368a2",
   "metadata": {},
   "outputs": [
    {
     "name": "stdout",
     "output_type": "stream",
     "text": [
      "\n",
      "=== DAILY MOOD TRACKING ===\n",
      "\n",
      "Day 1: Mood score 7/10\n",
      "Day 2: Mood score 7/10\n",
      "Day 3: Mood score 7/10\n",
      "Day 4: Mood score 7/10\n",
      "Day 5: Mood score 7/10\n",
      "Day 6: Mood score 7/10\n",
      "Day 7: Mood score 7/10\n"
     ]
    }
   ],
   "source": [
    "# Loop with Range\n",
    "print('\\n=== DAILY MOOD TRACKING ===\\n')\n",
    "\n",
    "for day in range(1, 8): # Track mood for 7 days\n",
    "    mood_score = 7\n",
    "    print(f'Day {day}: Mood score {mood_score}/10')"
   ]
  },
  {
   "cell_type": "code",
   "execution_count": 45,
   "id": "a44a5a14-8f7d-4daa-bdd3-75741d010599",
   "metadata": {},
   "outputs": [
    {
     "name": "stdout",
     "output_type": "stream",
     "text": [
      "\n",
      "=== IDENTIFYING AT-RISK PATIENTS ===\n",
      "\n",
      "Patients with high blood pressure:\n",
      "!!! Anna (age 45): 140 mmHg - FOLLOW UP NEEDED!\n",
      "!!! Maria (age 61): 155 mmHg - FOLLOW UP NEEDED!\n"
     ]
    }
   ],
   "source": [
    "# Loop with conditions\n",
    "print('\\n=== IDENTIFYING AT-RISK PATIENTS ===\\n')\n",
    "\n",
    "patient_data = [\n",
    "    ('Anna', 45, 140), # Name, age, systolic BP\n",
    "    ('Ivan', 29, 125),\n",
    "    ('Maria', 61, 155),\n",
    "    ('Alex', 38, 118)\n",
    "]\n",
    "\n",
    "print('Patients with high blood pressure:')\n",
    "for name, age, bp in patient_data:\n",
    "    if bp > 130:\n",
    "        print(f'!!! {name} (age {age}): {bp} mmHg - FOLLOW UP NEEDED!')"
   ]
  },
  {
   "cell_type": "code",
   "execution_count": null,
   "id": "015ad182-1a94-47dd-a1d1-b211171723d8",
   "metadata": {},
   "outputs": [],
   "source": []
  }
 ],
 "metadata": {
  "kernelspec": {
   "display_name": "Python 3 (ipykernel)",
   "language": "python",
   "name": "python3"
  },
  "language_info": {
   "codemirror_mode": {
    "name": "ipython",
    "version": 3
   },
   "file_extension": ".py",
   "mimetype": "text/x-python",
   "name": "python",
   "nbconvert_exporter": "python",
   "pygments_lexer": "ipython3",
   "version": "3.10.18"
  }
 },
 "nbformat": 4,
 "nbformat_minor": 5
}
