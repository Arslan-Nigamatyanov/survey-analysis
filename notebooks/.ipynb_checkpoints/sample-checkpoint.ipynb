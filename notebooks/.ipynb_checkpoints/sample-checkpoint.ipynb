{
 "cells": [
  {
   "cell_type": "code",
   "execution_count": 53,
   "id": "ae8884de-bf56-4c0e-8572-aabe8ece4953",
   "metadata": {},
   "outputs": [
    {
     "name": "stdout",
     "output_type": "stream",
     "text": [
      "=== SEE GENERAL INFORMATION ===\n",
      "\n",
      "    patient_id  age  anxiety_score  social_media_time\n",
      "0            1   20              5                  2\n",
      "1            2   19              6                  2\n",
      "2            3   18              3                  1\n",
      "3            4   24              7                  5\n",
      "4            5   23              4                  3\n",
      "5            6   25              7                  4\n",
      "6            7   22              9                  6\n",
      "7            8   21              1                  1\n",
      "8            9   18              1                  1\n",
      "9           10   26              6                  4\n",
      "10          11   23              5                  3\n",
      "11          12   22              4                  3\n",
      "12          13   22              7                  4\n",
      "13          14   22              8                  5\n",
      "14          15   21              3                  2\n",
      "15          16   25              4                  1\n",
      "16          17   20              9                  6\n",
      "17          18   18              9                  6\n",
      "18          19   19              3                  2\n",
      "19          20   19              4                  2\n"
     ]
    }
   ],
   "source": [
    "# Sample Research: Social Media Impact on Anxiety\n",
    "## Step 1: Load Data\n",
    "\n",
    "print('=== SEE GENERAL INFORMATION ===\\n')\n",
    "\n",
    "import pandas as pd\n",
    "\n",
    "df = pd.read_csv('../data/sample.csv', sep=';') # Pandas defolts to commas ( , ), so it reads everythin as one column\n",
    "print(df) # See all rows"
   ]
  },
  {
   "cell_type": "code",
   "execution_count": 54,
   "id": "aade5b91-e2e3-4168-af4e-2ffb56ad9cd4",
   "metadata": {},
   "outputs": [
    {
     "name": "stdout",
     "output_type": "stream",
     "text": [
      "First 10 rows:\n",
      "   patient_id  age  anxiety_score  social_media_time\n",
      "0           1   20              5                  2\n",
      "1           2   19              6                  2\n",
      "2           3   18              3                  1\n",
      "3           4   24              7                  5\n",
      "4           5   23              4                  3\n",
      "5           6   25              7                  4\n",
      "6           7   22              9                  6\n",
      "7           8   21              1                  1\n",
      "8           9   18              1                  1\n",
      "9          10   26              6                  4\n"
     ]
    }
   ],
   "source": [
    "# Filter first 10 rows\n",
    "\n",
    "print('First 10 rows:')\n",
    "print(df.head(10))"
   ]
  },
  {
   "cell_type": "code",
   "execution_count": 55,
   "id": "920aa6ae-c2ce-457a-8d69-aa7b89f74a17",
   "metadata": {},
   "outputs": [
    {
     "name": "stdout",
     "output_type": "stream",
     "text": [
      "Last 7 rows:\n",
      "    patient_id  age  anxiety_score  social_media_time\n",
      "13          14   22              8                  5\n",
      "14          15   21              3                  2\n",
      "15          16   25              4                  1\n",
      "16          17   20              9                  6\n",
      "17          18   18              9                  6\n",
      "18          19   19              3                  2\n",
      "19          20   19              4                  2\n"
     ]
    }
   ],
   "source": [
    "# Filter last 7 raws\n",
    "\n",
    "print('Last 7 rows:')\n",
    "print(df.tail(7))"
   ]
  },
  {
   "cell_type": "code",
   "execution_count": 56,
   "id": "941a034f-bb0b-440f-9d74-7d376abd347d",
   "metadata": {},
   "outputs": [
    {
     "name": "stdout",
     "output_type": "stream",
     "text": [
      "\n",
      "=== SEE BASIC INFORMATION ===\n",
      "\n",
      "Dataset shape: (20, 4)\n",
      "\n",
      "Dataset info:\n",
      "<class 'pandas.core.frame.DataFrame'>\n",
      "RangeIndex: 20 entries, 0 to 19\n",
      "Data columns (total 4 columns):\n",
      " #   Column             Non-Null Count  Dtype\n",
      "---  ------             --------------  -----\n",
      " 0   patient_id         20 non-null     int64\n",
      " 1   age                20 non-null     int64\n",
      " 2   anxiety_score      20 non-null     int64\n",
      " 3   social_media_time  20 non-null     int64\n",
      "dtypes: int64(4)\n",
      "memory usage: 768.0 bytes\n",
      "None\n"
     ]
    }
   ],
   "source": [
    "# We can see basic information from our .csv \n",
    "\n",
    "print('\\n=== SEE BASIC INFORMATION ===\\n')\n",
    "\n",
    "print(f'Dataset shape: {df.shape}\\n') # Dataset shape\n",
    "print(f'Dataset info:')\n",
    "print(df.info()) # Basic info"
   ]
  },
  {
   "cell_type": "code",
   "execution_count": 57,
   "id": "acb59437-fd1b-4732-a068-645c5af9a7a0",
   "metadata": {},
   "outputs": [
    {
     "name": "stdout",
     "output_type": "stream",
     "text": [
      "\n",
      "Statistical summary:\n",
      "       patient_id        age  anxiety_score  social_media_time\n",
      "count    20.00000  20.000000      20.000000          20.000000\n",
      "mean     10.50000  21.350000       5.250000           3.150000\n",
      "std       5.91608   2.476734       2.489451           1.755443\n",
      "min       1.00000  18.000000       1.000000           1.000000\n",
      "25%       5.75000  19.000000       3.750000           2.000000\n",
      "50%      10.50000  21.500000       5.000000           3.000000\n",
      "75%      15.25000  23.000000       7.000000           4.250000\n",
      "max      20.00000  26.000000       9.000000           6.000000\n"
     ]
    }
   ],
   "source": [
    "# We also can see statistical summary\n",
    "\n",
    "print('\\nStatistical summary:')\n",
    "print(df.describe())"
   ]
  },
  {
   "cell_type": "code",
   "execution_count": 59,
   "id": "e0d793d4-bef7-4c1c-a9b6-8ed1439a3cca",
   "metadata": {},
   "outputs": [
    {
     "name": "stdout",
     "output_type": "stream",
     "text": [
      "\n",
      "=== FILTERING ===\n",
      "\n",
      "Patients over 25:\n",
      "\n",
      "    patient_id  age  anxiety_score  social_media_time\n",
      "5            6   25              7                  4\n",
      "9           10   26              6                  4\n",
      "15          16   25              4                  1\n",
      "\n",
      "Patients less 25:\n",
      "\n",
      "    patient_id  age  anxiety_score  social_media_time\n",
      "0            1   20              5                  2\n",
      "1            2   19              6                  2\n",
      "2            3   18              3                  1\n",
      "3            4   24              7                  5\n",
      "4            5   23              4                  3\n",
      "6            7   22              9                  6\n",
      "7            8   21              1                  1\n",
      "8            9   18              1                  1\n",
      "10          11   23              5                  3\n",
      "11          12   22              4                  3\n",
      "12          13   22              7                  4\n",
      "13          14   22              8                  5\n",
      "14          15   21              3                  2\n",
      "16          17   20              9                  6\n",
      "17          18   18              9                  6\n",
      "18          19   19              3                  2\n",
      "19          20   19              4                  2\n"
     ]
    }
   ],
   "source": [
    "# We analyze patients over or less 25 separatly for some reasons\n",
    "\n",
    "print('\\n=== FILTERING ===\\n')\n",
    "\n",
    "adults = df[df['age'] >= 25]\n",
    "youngs = df[df['age'] < 25]\n",
    "\n",
    "print('Patients over 25:\\n')\n",
    "print(adults)\n",
    "print('\\nPatients less 25:\\n')\n",
    "print(youngs)"
   ]
  },
  {
   "cell_type": "code",
   "execution_count": 50,
   "id": "ad4b4bc7-a3d5-4be8-afff-70326202bdd9",
   "metadata": {},
   "outputs": [
    {
     "name": "stdout",
     "output_type": "stream",
     "text": [
      "=== DIAGNOSIS ===\n",
      "Columns in your CSV: ['patient_id;age;anxiety_score;social_media_time']\n"
     ]
    }
   ],
   "source": [
    "df = pd.read_csv('../data/sample.csv')\n",
    "\n",
    "print(\"=== DIAGNOSIS ===\")\n",
    "print(\"Columns in your CSV:\", df.columns.tolist()) # If there is some problems with columns names"
   ]
  },
  {
   "cell_type": "code",
   "execution_count": 65,
   "id": "3341e90f-07a4-476b-99b4-d3bc8c447554",
   "metadata": {},
   "outputs": [
    {
     "name": "stdout",
     "output_type": "stream",
     "text": [
      "\n",
      "Patients with high level of anxiety:\n",
      "    patient_id  age  anxiety_score  social_media_time\n",
      "3            4   24              7                  5\n",
      "5            6   25              7                  4\n",
      "6            7   22              9                  6\n",
      "12          13   22              7                  4\n",
      "13          14   22              8                  5\n",
      "16          17   20              9                  6\n",
      "17          18   18              9                  6\n",
      "\n",
      "Patients with low level of anxiety:\n",
      "    patient_id  age  anxiety_score  social_media_time\n",
      "0            1   20              5                  2\n",
      "1            2   19              6                  2\n",
      "2            3   18              3                  1\n",
      "4            5   23              4                  3\n",
      "7            8   21              1                  1\n",
      "8            9   18              1                  1\n",
      "9           10   26              6                  4\n",
      "10          11   23              5                  3\n",
      "11          12   22              4                  3\n",
      "14          15   21              3                  2\n",
      "15          16   25              4                  1\n",
      "18          19   19              3                  2\n",
      "19          20   19              4                  2\n"
     ]
    }
   ],
   "source": [
    "high_anxiety = df[df['anxiety_score'] >= 7]\n",
    "low_anxiety = df[df['anxiety_score'] < 7]\n",
    "\n",
    "print('\\nPatients with high level of anxiety:')\n",
    "print(high_anxiety)\n",
    "print('\\nPatients with low level of anxiety:')\n",
    "print(low_anxiety)"
   ]
  },
  {
   "cell_type": "code",
   "execution_count": 67,
   "id": "39aaab25-a643-46db-856d-955d5cbc13ed",
   "metadata": {},
   "outputs": [
    {
     "name": "stdout",
     "output_type": "stream",
     "text": [
      "\n",
      "Patients spend more 4 hours in social media:\n",
      "    patient_id  age  anxiety_score  social_media_time\n",
      "3            4   24              7                  5\n",
      "5            6   25              7                  4\n",
      "6            7   22              9                  6\n",
      "9           10   26              6                  4\n",
      "12          13   22              7                  4\n",
      "13          14   22              8                  5\n",
      "16          17   20              9                  6\n",
      "17          18   18              9                  6\n",
      "\n",
      "Patiens spend less 4 hours in social media:\n",
      "    patient_id  age  anxiety_score  social_media_time\n",
      "0            1   20              5                  2\n",
      "1            2   19              6                  2\n",
      "2            3   18              3                  1\n",
      "4            5   23              4                  3\n",
      "7            8   21              1                  1\n",
      "8            9   18              1                  1\n",
      "10          11   23              5                  3\n",
      "11          12   22              4                  3\n",
      "14          15   21              3                  2\n",
      "15          16   25              4                  1\n",
      "18          19   19              3                  2\n",
      "19          20   19              4                  2\n"
     ]
    }
   ],
   "source": [
    "high_smt = df[df['social_media_time'] >= 4] # Smt = social_media_time\n",
    "low_smt = df[df['social_media_time'] < 4]\n",
    "\n",
    "print('\\nPatients spend more 4 hours in social media:')\n",
    "print(high_smt)\n",
    "print('\\nPatiens spend less 4 hours in social media:')\n",
    "print(low_smt)"
   ]
  },
  {
   "cell_type": "code",
   "execution_count": 80,
   "id": "8bba86bb-27fd-41c1-8b94-cdc8e80bcc41",
   "metadata": {},
   "outputs": [
    {
     "name": "stdout",
     "output_type": "stream",
     "text": [
      "\n",
      "=== SELECTING COLUMN SUBSETS ===\n",
      "\n",
      "\n",
      "All ages:\n",
      "0     20\n",
      "1     19\n",
      "2     18\n",
      "3     24\n",
      "4     23\n",
      "5     25\n",
      "6     22\n",
      "7     21\n",
      "8     18\n",
      "9     26\n",
      "10    23\n",
      "11    22\n",
      "12    22\n",
      "13    22\n",
      "14    21\n",
      "15    25\n",
      "16    20\n",
      "17    18\n",
      "18    19\n",
      "19    19\n",
      "Name: age, dtype: int64\n"
     ]
    }
   ],
   "source": [
    "print('\\n=== SELECTING COLUMN SUBSETS ===\\n')\n",
    "\n",
    "# Get only age column (returns Series)\n",
    "\n",
    "ages = df['age']\n",
    "print('\\nAll ages:')\n",
    "print(ages)"
   ]
  },
  {
   "cell_type": "code",
   "execution_count": 79,
   "id": "562d3fbf-e6b4-411f-a054-d45b548a4053",
   "metadata": {},
   "outputs": [
    {
     "name": "stdout",
     "output_type": "stream",
     "text": [
      "\n",
      "Age and anxiety score:\n",
      "    age  anxiety_score\n",
      "0    20              5\n",
      "1    19              6\n",
      "2    18              3\n",
      "3    24              7\n",
      "4    23              4\n",
      "5    25              7\n",
      "6    22              9\n",
      "7    21              1\n",
      "8    18              1\n",
      "9    26              6\n",
      "10   23              5\n",
      "11   22              4\n",
      "12   22              7\n",
      "13   22              8\n",
      "14   21              3\n",
      "15   25              4\n",
      "16   20              9\n",
      "17   18              9\n",
      "18   19              3\n",
      "19   19              4\n"
     ]
    }
   ],
   "source": [
    "# Get Multiple Columns\n",
    "\n",
    "subset = df[['age', 'anxiety_score']]\n",
    "print('\\nAge and anxiety score:')\n",
    "print(subset)"
   ]
  },
  {
   "cell_type": "code",
   "execution_count": 77,
   "id": "091fcd2c-93d3-4916-ab5c-3f06e8b024ee",
   "metadata": {},
   "outputs": [
    {
     "name": "stdout",
     "output_type": "stream",
     "text": [
      "\n",
      "First three columns:\n",
      "    patient_id  age  anxiety_score\n",
      "0            1   20              5\n",
      "1            2   19              6\n",
      "2            3   18              3\n",
      "3            4   24              7\n",
      "4            5   23              4\n",
      "5            6   25              7\n",
      "6            7   22              9\n",
      "7            8   21              1\n",
      "8            9   18              1\n",
      "9           10   26              6\n",
      "10          11   23              5\n",
      "11          12   22              4\n",
      "12          13   22              7\n",
      "13          14   22              8\n",
      "14          15   21              3\n",
      "15          16   25              4\n",
      "16          17   20              9\n",
      "17          18   18              9\n",
      "18          19   19              3\n",
      "19          20   19              4\n"
     ]
    }
   ],
   "source": [
    "# Get Columns by position\n",
    "\n",
    "first_three = df.iloc[:, 0:3]\n",
    "print('\\nFirst three columns:')\n",
    "print(first_three)"
   ]
  },
  {
   "cell_type": "code",
   "execution_count": 81,
   "id": "72c6a11f-8ee5-48cc-973d-96757db3abc6",
   "metadata": {},
   "outputs": [
    {
     "name": "stdout",
     "output_type": "stream",
     "text": [
      "\n",
      "High anxiety patients (selected columns):\n",
      "    age  social_media_time  anxiety_score\n",
      "3    24                  5              7\n",
      "5    25                  4              7\n",
      "6    22                  6              9\n",
      "12   22                  4              7\n",
      "13   22                  5              8\n",
      "16   20                  6              9\n",
      "17   18                  6              9\n"
     ]
    }
   ],
   "source": [
    "# Combining Subsets with Filtering\n",
    "\n",
    "high_anxiety_level_patients = df[df['anxiety_score'] >= 7][['age', 'social_media_time', 'anxiety_score']]\n",
    "print('\\nHigh anxiety patients (selected columns):')\n",
    "print(high_anxiety_level_patients)"
   ]
  },
  {
   "cell_type": "code",
   "execution_count": 82,
   "id": "2b848f5d-a2ab-4e6a-88ba-cc8db195695d",
   "metadata": {},
   "outputs": [],
   "source": [
    "# Saving Filtered Data to CSV\n",
    "\n",
    "high_smt.to_csv('../data/high_social_media_time.csv', index=False) # Smt = social_media_time\n",
    "low_smt.to_csv('../data/low_social_media_time.csv', index=False)\n",
    "high_anxiety.to_csv('../data/high_anxiety.csv', index=False)\n",
    "low_anxiety.to_csv('../data/low_anxiety.csv', index=False)"
   ]
  },
  {
   "cell_type": "code",
   "execution_count": null,
   "id": "d4966896-9614-4194-b9e0-85172f756840",
   "metadata": {},
   "outputs": [],
   "source": []
  }
 ],
 "metadata": {
  "kernelspec": {
   "display_name": "Python 3 (ipykernel)",
   "language": "python",
   "name": "python3"
  },
  "language_info": {
   "codemirror_mode": {
    "name": "ipython",
    "version": 3
   },
   "file_extension": ".py",
   "mimetype": "text/x-python",
   "name": "python",
   "nbconvert_exporter": "python",
   "pygments_lexer": "ipython3",
   "version": "3.10.18"
  }
 },
 "nbformat": 4,
 "nbformat_minor": 5
}
